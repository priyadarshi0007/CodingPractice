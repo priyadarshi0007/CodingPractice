{
 "cells": [
  {
   "cell_type": "code",
   "execution_count": null,
   "metadata": {},
   "outputs": [],
   "source": [
    " def isValid(str):\n",
    "        valids = ['()', '[]', '{}']\n",
    "        s = str\n",
    "        #if not an evn number length then definatinely something is missing\n",
    "        if len(s) % 2 != 0:\n",
    "            return False\n",
    "        #checking for the whole length of the string \n",
    "        while len(s) != 0:\n",
    "            #saving the original length \n",
    "            o_len = len(s)\n",
    "            for val in valids:\n",
    "                #Check the innermost pair and remove it one by one\n",
    "                s = s.replace(val, '')\n",
    "            if len(s) == o_len:\n",
    "                return False\n",
    "        return True"
   ]
  }
 ],
 "metadata": {
  "kernelspec": {
   "display_name": "Python 3",
   "language": "python",
   "name": "python3"
  },
  "language_info": {
   "codemirror_mode": {
    "name": "ipython",
    "version": 3
   },
   "file_extension": ".py",
   "mimetype": "text/x-python",
   "name": "python",
   "nbconvert_exporter": "python",
   "pygments_lexer": "ipython3",
   "version": "3.7.3"
  }
 },
 "nbformat": 4,
 "nbformat_minor": 2
}
